{
 "cells": [
  {
   "cell_type": "code",
   "execution_count": 1,
   "metadata": {},
   "outputs": [],
   "source": [
    "def extract_files(files: list[str], output=\"extracted_files.txt\"):\n",
    "\t\twith open(output, 'w') as outfile:\n",
    "\t\t\t\t# files = [f'../{file}' for file in files]\n",
    "\t\t\t\toutfile.write('**=== MY CODE ===**\\n\\n')\n",
    "\t\t\t\tfor file in files:\n",
    "\t\t\t\t\t\toutfile.write(f'{file}:\\n')\n",
    "\t\t\t\t\t\twith open(file, 'r') as infile:\n",
    "\t\t\t\t\t\t\t\toutfile.write(f'```\\n{infile.read()}\\n```\\n')\n"
   ]
  },
  {
   "cell_type": "code",
   "execution_count": 2,
   "metadata": {},
   "outputs": [],
   "source": [
    "files = [\n",
    "\t# # 'BaseMMEngine.py',\n",
    "\t# 'bases/config.py',\n",
    "\t# 'bases/runner.py'\n",
    "\t\n",
    "\t# 'mmlab/engine/bases/model.py',\n",
    "\t# 'mmlab/registry/models/ExampleModel.py',\n",
    " \n",
    "\t# 'mmlab/engine/bases/data.py',\n",
    "\t# 'mmlab/registry/datasets/ExampleDataset.py'\n",
    "\t\n",
    "\t'ml/mmlab/engine/bases/runner.py',\n",
    "\t'tests/mmlab/registry/runners/ExampleRunner.py',\n",
    "\t'tests/mmlab/registry/runners/example_config.py',\n",
    " \n",
    "\t# 'ml/mmlab/engine/bases/registry.py',\n",
    "\t# 'tests/mmlab/engine/bases/registry.py',\n",
    "\t\n",
    "\t# 'ml/mmlab/engine/bases/data.py',\n",
    "\t# 'tests/mmlab/registry/datasets/ExampleDataset.py',\n",
    "\t\n",
    "\t# 'ml/mmlab/engine/bases/model.py',\n",
    "\t# 'tests/mmlab/registry/models/ExampleModel.py',\n",
    " \n",
    "]\n",
    "\n",
    "extract_files(files)"
   ]
  },
  {
   "cell_type": "code",
   "execution_count": null,
   "metadata": {},
   "outputs": [],
   "source": []
  }
 ],
 "metadata": {
  "kernelspec": {
   "display_name": "llm",
   "language": "python",
   "name": "python3"
  },
  "language_info": {
   "codemirror_mode": {
    "name": "ipython",
    "version": 3
   },
   "file_extension": ".py",
   "mimetype": "text/x-python",
   "name": "python",
   "nbconvert_exporter": "python",
   "pygments_lexer": "ipython3",
   "version": "3.11.9"
  }
 },
 "nbformat": 4,
 "nbformat_minor": 2
}
